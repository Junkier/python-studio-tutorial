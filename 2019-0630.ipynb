{
 "cells": [
  {
   "cell_type": "code",
   "execution_count": null,
   "metadata": {},
   "outputs": [],
   "source": [
    "# articles = \"毒舌評論家《個人意見》在個人網站上對本屆金曲紅毯發表看法了，其中最讓人爆笑的，莫過於王彩樺的造型，他在網文上寫到：「今年是『沒想到我會寫這句話』之年，因為我也沒想到我會寫『今年紅毯打扮最性感的是王彩樺』，但真的是，一件大露背正面有多處透明的性感禮服，但我很懷疑明天報紙會寫『王彩樺透視禮服辣翻』。」王彩樺這次現身紅毯的尺度確實挺大的，難怪個人意見會這麼形容。\"\n"
   ]
  },
  {
   "cell_type": "code",
   "execution_count": null,
   "metadata": {},
   "outputs": [],
   "source": [
    "\n",
    "# for 變數 in 可迭代物 (str , list , dict ):\n",
    "    # do something...\n",
    "    \n",
    "# while "
   ]
  },
  {
   "cell_type": "code",
   "execution_count": 36,
   "metadata": {
    "scrolled": true
   },
   "outputs": [
    {
     "name": "stdout",
     "output_type": "stream",
     "text": [
      "JJJJJ\n",
      "aaaa\n",
      "ccc\n",
      "kk\n",
      "!\n",
      "Test : 150\n"
     ]
    }
   ],
   "source": [
    "word = \"Jack!\"\n",
    "cnt = 5\n",
    "test = 100\n",
    "\n",
    "for w in word:\n",
    "    print(w*cnt)\n",
    "    cnt -= 1\n",
    "    test += 10 \n",
    "    \n",
    "print(\"Test :\",test)"
   ]
  },
  {
   "cell_type": "code",
   "execution_count": 33,
   "metadata": {
    "scrolled": true
   },
   "outputs": [
    {
     "name": "stdout",
     "output_type": "stream",
     "text": [
      "i : 1\n",
      "cnt : 0\n",
      "------------------------------------------------------------\n",
      "i : 2\n",
      "cnt : 1\n",
      "------------------------------------------------------------\n",
      "i : 3\n",
      "cnt : 2\n",
      "------------------------------------------------------------\n",
      "i : 4\n",
      "cnt : 3\n",
      "------------------------------------------------------------\n",
      "i : 5\n",
      "cnt : 4\n",
      "------------------------------------------------------------\n",
      "i : 6\n",
      "cnt : 5\n",
      "------------------------------------------------------------\n",
      "i : 7\n",
      "cnt : 6\n",
      "------------------------------------------------------------\n",
      "i : 8\n",
      "cnt : 7\n",
      "------------------------------------------------------------\n",
      "i : 9\n",
      "cnt : 8\n",
      "------------------------------------------------------------\n",
      "i : 10\n",
      "cnt : 9\n",
      "------------------------------------------------------------\n",
      "Total :  55\n",
      "Count :  10\n"
     ]
    }
   ],
   "source": [
    "test = [1,2,3,4,5,6,7,8,9,10]\n",
    "\n",
    "total = 0\n",
    "cnt = 0\n",
    "\n",
    "for i in test:\n",
    "    print(\"i :\",i)\n",
    "    print(\"cnt :\",cnt)\n",
    "    total = total + i\n",
    "    cnt   = cnt + 1\n",
    "    print(\"-\"*60)\n",
    "    \n",
    "print(\"Total : \",total)\n",
    "print(\"Count : \",cnt)"
   ]
  },
  {
   "cell_type": "code",
   "execution_count": null,
   "metadata": {},
   "outputs": [],
   "source": [
    "# ******\n",
    "# *****\n",
    "# ****\n",
    "# ***\n",
    "# **\n",
    "# *\n",
    "# **\n",
    "# ***\n",
    "# ****\n",
    "# *****\n",
    "# ******"
   ]
  },
  {
   "cell_type": "code",
   "execution_count": 53,
   "metadata": {},
   "outputs": [
    {
     "name": "stdout",
     "output_type": "stream",
     "text": [
      "******\n",
      "*****\n",
      "****\n",
      "***\n",
      "**\n",
      "*\n",
      "**\n",
      "***\n",
      "****\n",
      "*****\n",
      "******\n"
     ]
    }
   ],
   "source": [
    "cnt = 6\n",
    "mode = \"minus\"\n",
    "\n",
    "for i in range(11):\n",
    "    print(\"*\" * cnt)\n",
    "\n",
    "    if mode == \"minus\":\n",
    "        cnt -= 1\n",
    "    else:\n",
    "        cnt += 1\n",
    "    \n",
    "    if cnt == 1:\n",
    "        mode = \"add\""
   ]
  },
  {
   "cell_type": "code",
   "execution_count": 66,
   "metadata": {},
   "outputs": [
    {
     "name": "stdout",
     "output_type": "stream",
     "text": [
      "False\n",
      "True\n",
      "123\n",
      "False\n"
     ]
    }
   ],
   "source": [
    "a = 12 \n",
    "b = 20\n",
    "print(a > b)\n",
    "\n",
    "### \n",
    "c = 123 \n",
    "d = 123 \n",
    "print(c == d)\n",
    "c = d \n",
    "print(c)\n",
    "\n",
    "###\n",
    "e = 456 \n",
    "f = \"abc\"\n",
    "print(e == f)"
   ]
  },
  {
   "cell_type": "code",
   "execution_count": 61,
   "metadata": {},
   "outputs": [
    {
     "name": "stdout",
     "output_type": "stream",
     "text": [
      "******\n",
      "*****\n",
      "****\n",
      "***\n",
      "**\n",
      "*\n",
      "*\n",
      "**\n",
      "***\n",
      "****\n",
      "*****\n"
     ]
    }
   ],
   "source": [
    "b = 6\n",
    "c = -5\n",
    "for i in range(11):\n",
    "    if b>0 : \n",
    "        print(\"*\"*b)\n",
    "    if c>0 :\n",
    "        print(\"*\"*c)\n",
    "    b -= 1\n",
    "    c += 1"
   ]
  },
  {
   "cell_type": "code",
   "execution_count": 47,
   "metadata": {},
   "outputs": [
    {
     "name": "stdout",
     "output_type": "stream",
     "text": [
      "While loop 100 times !!!\n",
      "While loop 90 times !!!\n",
      "While loop 80 times !!!\n",
      "While loop 70 times !!!\n",
      "While loop 60 times !!!\n",
      "While loop 50 times !!!\n",
      "While loop 40 times !!!\n",
      "done.\n"
     ]
    }
   ],
   "source": [
    "a = 100\n",
    "\n",
    "while a>30:\n",
    "    print(\"While loop {} times !!!\".format(a))\n",
    "    a -= 10\n",
    "    \n",
    "print(\"done.\")\n",
    "\n",
    "############\n",
    "\n",
    "cnt = 0\n",
    "data = []\n",
    "while cnt < 100:\n",
    "    data.append(cnt)\n",
    "    cnt +=2\n",
    "    \n",
    "print(data)"
   ]
  },
  {
   "cell_type": "code",
   "execution_count": 76,
   "metadata": {},
   "outputs": [
    {
     "name": "stdout",
     "output_type": "stream",
     "text": [
      "a 是否大於 b : True\n",
      "c 是否小於 d : False\n",
      "e 大於 5 嗎  : False\n",
      "e 大於等於 0 嗎  : True\n",
      "--------------------------------------------------------------------------------\n",
      "a is + !!!\n"
     ]
    }
   ],
   "source": [
    "# # > \n",
    "# # < \n",
    "# # ==\n",
    "# # and or not\n",
    "# # in\n",
    "# a = 100 \n",
    "# b = 80 \n",
    "# c = 30 \n",
    "# d = 0\n",
    "# e = 3\n",
    "# print(\"a 是否大於 b :\" , a>b )\n",
    "# print(\"c 是否小於 d :\" , c < d)\n",
    "# print(\"e 大於 5 嗎  :\" , e>5)\n",
    "# print(\"e 大於等於 0 嗎  :\" , e>=0)\n",
    "# print(\"-\"*80)\n",
    "# if a > 0 and b> 0 and c>0:\n",
    "#     print(\"a,b,c is + !!!\")\n",
    "# else :\n",
    "#     print(\"a is - \")\n",
    "\n",
    "\n",
    "# 1. 條件式 : > , < , == , and , or , not , in \n",
    "# 2. while-loop : "
   ]
  },
  {
   "cell_type": "code",
   "execution_count": 113,
   "metadata": {},
   "outputs": [
    {
     "name": "stdout",
     "output_type": "stream",
     "text": [
      "a 是否大於 b : True\n",
      "c 是否小於等於 d : True\n",
      "e 是否小於 0 : True\n",
      "f 是 12 嗎 : False\n",
      "--------------------------------------------------------------------------------\n",
      "a is +\n",
      "- !!!\n",
      "--------------------------------------------------------------------------------\n",
      "Pass !!\n",
      "--------------------------------------------------------------------------------\n",
      "True\n",
      "False\n",
      "False\n",
      "True\n",
      "False\n"
     ]
    }
   ],
   "source": [
    "# > \n",
    "# < \n",
    "# ==\n",
    "a = 100\n",
    "b = -80 \n",
    "c = -40 \n",
    "d = 0\n",
    "e = -20\n",
    "f = \"abc\"\n",
    "\n",
    "print(\"a 是否大於 b :\", a>b)\n",
    "print(\"c 是否小於等於 d :\", c<=d )\n",
    "print(\"e 是否小於 0 :\" , e<0 )\n",
    "# print( f < 12)\n",
    "print(\"f 是 12 嗎 :\", f == 12 )\n",
    "\n",
    "print(\"-\"*80)\n",
    "##############################\n",
    "# and , or \n",
    "\n",
    "if a > 0  :\n",
    "    print(\"a is +\")\n",
    "else:\n",
    "    print(\"a is -\")\n",
    "\n",
    "    \n",
    "if a>0 and b>0 and c>0:\n",
    "    print(\"a , b , c are +!!!\")\n",
    "else:\n",
    "    print(\"- !!!\")\n",
    "    \n",
    "print(\"-\"*80)\n",
    "\n",
    "##############################\n",
    "\n",
    "a = -100\n",
    "b = -80 \n",
    "c = 40 \n",
    "\n",
    "if (a>0 and b>0) or (c>0) or (f == \"abc\"):\n",
    "    print(\"Pass !!\")\n",
    "else:\n",
    "    print(\"Failed !!\")\n",
    "    \n",
    "    \n",
    "print(\"-\"*80)\n",
    "##############################\n",
    "# in \n",
    "print( \"a\" in \"abc\" )\n",
    "print( \"qq\" in \"abcde\")\n",
    "print( \"a c\" in \"abc\")\n",
    "    \n",
    "print( 40 in [1,2,3,4,5,40] )\n",
    "print( -3 in [1,2,3,4])\n",
    "    "
   ]
  },
  {
   "cell_type": "code",
   "execution_count": 135,
   "metadata": {},
   "outputs": [
    {
     "name": "stdout",
     "output_type": "stream",
     "text": [
      "[0, 2, 4, 6, 8, 10, 12, 14, 16, 18, 20, 22, 24, 26, 28, 30, 32, 34, 36, 38, 40, 42, 44, 46, 48, 50, 52, 54, 56, 58, 60, 62, 64, 66, 68, 70, 72, 74, 76, 78, 80, 82, 84, 86, 88, 90, 92, 94, 96, 98]\n",
      "done.\n"
     ]
    }
   ],
   "source": [
    "# [for-loop]\n",
    "# for i in range(10):\n",
    "#     print(i)\n",
    "    \n",
    "# for 變數 in 可迭代物件:\n",
    "#     程式區 ...\n",
    "\n",
    "\n",
    "# [while-loop]\n",
    "# while 條件判斷式:\n",
    "#     程式區...\n",
    "    \n",
    "# cnt = 0 \n",
    "\n",
    "# while cnt<10:\n",
    "    # A condition\n",
    "    # 先 +1 , 再顯示\n",
    "#     cnt +=1\n",
    "#     print(\"while 迴圈第 {} 次 !\".format(cnt))\n",
    "    \n",
    "    # B condition\n",
    "    # 先顯示 , 再 +1\n",
    "#     print(\"while 迴圈第 {} 次 !\".format(cnt))\n",
    "#     cnt +=1\n",
    "    \n",
    "########################\n",
    "# 希望 產生 [1,2,3,4,5,6,7,8,9,10]\n",
    "\n",
    "cnt =0\n",
    "data = []\n",
    "\n",
    "while cnt < 100 :\n",
    "    data.append(cnt)\n",
    "    cnt +=2\n",
    "\n",
    "print(data)\n",
    "print(\"done.\")"
   ]
  },
  {
   "cell_type": "code",
   "execution_count": 126,
   "metadata": {},
   "outputs": [
    {
     "name": "stdout",
     "output_type": "stream",
     "text": [
      "[1, 2, 3, 4, 5, 'abc', 25]\n"
     ]
    }
   ],
   "source": [
    "a = [1,2,3]\n",
    "b = 12 \n",
    "c = 13\n",
    "a.append(4)\n",
    "a.append(5)\n",
    "a.append(\"abc\")\n",
    "a.append( b+c )\n",
    "print(a)"
   ]
  },
  {
   "cell_type": "code",
   "execution_count": 147,
   "metadata": {},
   "outputs": [
    {
     "name": "stdout",
     "output_type": "stream",
     "text": [
      "i 1 j 1\n",
      "i 1 j 2\n",
      "i 1 j 3\n",
      "i 1 j 4\n",
      "i 1 j 5\n",
      "i 1 j 6\n",
      "i 1 j 7\n",
      "i 1 j 8\n",
      "i 2 j 1\n",
      "i 2 j 2\n",
      "i 2 j 3\n",
      "i 2 j 4\n",
      "i 2 j 5\n",
      "i 2 j 6\n",
      "i 2 j 7\n",
      "i 2 j 8\n",
      "i 3 j 1\n",
      "i 3 j 2\n",
      "i 3 j 3\n",
      "i 3 j 4\n",
      "i 3 j 5\n",
      "i 3 j 6\n",
      "i 3 j 7\n",
      "i 3 j 8\n",
      "i 4 j 1\n",
      "i 4 j 2\n",
      "i 4 j 3\n",
      "i 4 j 4\n",
      "i 4 j 5\n",
      "i 4 j 6\n",
      "i 4 j 7\n",
      "i 4 j 8\n",
      "i 5 j 1\n",
      "i 5 j 2\n",
      "i 5 j 3\n",
      "i 5 j 4\n",
      "i 5 j 5\n",
      "i 5 j 6\n",
      "i 5 j 7\n",
      "i 5 j 8\n",
      "i 6 j 1\n",
      "i 6 j 2\n",
      "i 6 j 3\n",
      "i 6 j 4\n",
      "i 6 j 5\n",
      "i 6 j 6\n",
      "i 6 j 7\n",
      "i 6 j 8\n",
      "i 7 j 1\n",
      "i 7 j 2\n",
      "i 7 j 3\n",
      "i 7 j 4\n",
      "i 7 j 5\n",
      "i 7 j 6\n",
      "i 7 j 7\n",
      "i 7 j 8\n",
      "i 8 j 1\n",
      "i 8 j 2\n",
      "i 8 j 3\n",
      "i 8 j 4\n",
      "i 8 j 5\n",
      "i 8 j 6\n",
      "i 8 j 7\n",
      "i 8 j 8\n"
     ]
    }
   ],
   "source": [
    "n = 9\n",
    "for i in range(1,n):\n",
    "    for j in range(1,n):\n",
    "        print(\"i\" , i , \"j\",j)"
   ]
  },
  {
   "cell_type": "code",
   "execution_count": 159,
   "metadata": {},
   "outputs": [
    {
     "name": "stdout",
     "output_type": "stream",
     "text": [
      "1X1=1 \n",
      "1X2=2 \n",
      "1X3=3 \n",
      "1X4=4 \n",
      "1X5=5 \n",
      "1X6=6 \n",
      "1X7=7 \n",
      "1X8=8 \n",
      "1X9=9 \n",
      "\n",
      "2X1=2 \n",
      "2X2=4 \n",
      "2X3=6 \n",
      "2X4=8 \n",
      "2X5=10 \n",
      "2X6=12 \n",
      "2X7=14 \n",
      "2X8=16 \n",
      "2X9=18 \n",
      "\n",
      "3X1=3 \n",
      "3X2=6 \n",
      "3X3=9 \n",
      "3X4=12 \n",
      "3X5=15 \n",
      "3X6=18 \n",
      "3X7=21 \n",
      "3X8=24 \n",
      "3X9=27 \n",
      "\n",
      "4X1=4 \n",
      "4X2=8 \n",
      "4X3=12 \n",
      "4X4=16 \n",
      "4X5=20 \n",
      "4X6=24 \n",
      "4X7=28 \n",
      "4X8=32 \n",
      "4X9=36 \n",
      "\n",
      "5X1=5 \n",
      "5X2=10 \n",
      "5X3=15 \n",
      "5X4=20 \n",
      "5X5=25 \n",
      "5X6=30 \n",
      "5X7=35 \n",
      "5X8=40 \n",
      "5X9=45 \n",
      "\n",
      "6X1=6 \n",
      "6X2=12 \n",
      "6X3=18 \n",
      "6X4=24 \n",
      "6X5=30 \n",
      "6X6=36 \n",
      "6X7=42 \n",
      "6X8=48 \n",
      "6X9=54 \n",
      "\n",
      "7X1=7 \n",
      "7X2=14 \n",
      "7X3=21 \n",
      "7X4=28 \n",
      "7X5=35 \n",
      "7X6=42 \n",
      "7X7=49 \n",
      "7X8=56 \n",
      "7X9=63 \n",
      "\n",
      "8X1=8 \n",
      "8X2=16 \n",
      "8X3=24 \n",
      "8X4=32 \n",
      "8X5=40 \n",
      "8X6=48 \n",
      "8X7=56 \n",
      "8X8=64 \n",
      "8X9=72 \n",
      "\n",
      "9X1=9 \n",
      "9X2=18 \n",
      "9X3=27 \n",
      "9X4=36 \n",
      "9X5=45 \n",
      "9X6=54 \n",
      "9X7=63 \n",
      "9X8=72 \n",
      "9X9=81 \n",
      "\n"
     ]
    }
   ],
   "source": [
    "n = 10 \n",
    "for i in range(1,n):\n",
    "    for j in range(1,n):\n",
    "        # [程式區...]"
   ]
  },
  {
   "cell_type": "code",
   "execution_count": 160,
   "metadata": {},
   "outputs": [
    {
     "name": "stdout",
     "output_type": "stream",
     "text": [
      "1X1=1   1X2=2   1X3=3   1X4=4   1X5=5   1X6=6   1X7=7   1X8=8   1X9=9   \n",
      "2X1=2   2X2=4   2X3=6   2X4=8   2X5=10  2X6=12  2X7=14  2X8=16  2X9=18  \n",
      "3X1=3   3X2=6   3X3=9   3X4=12  3X5=15  3X6=18  3X7=21  3X8=24  3X9=27  \n",
      "4X1=4   4X2=8   4X3=12  4X4=16  4X5=20  4X6=24  4X7=28  4X8=32  4X9=36  \n",
      "5X1=5   5X2=10  5X3=15  5X4=20  5X5=25  5X6=30  5X7=35  5X8=40  5X9=45  \n",
      "6X1=6   6X2=12  6X3=18  6X4=24  6X5=30  6X6=36  6X7=42  6X8=48  6X9=54  \n",
      "7X1=7   7X2=14  7X3=21  7X4=28  7X5=35  7X6=42  7X7=49  7X8=56  7X9=63  \n",
      "8X1=8   8X2=16  8X3=24  8X4=32  8X5=40  8X6=48  8X7=56  8X8=64  8X9=72  \n",
      "9X1=9   9X2=18  9X3=27  9X4=36  9X5=45  9X6=54  9X7=63  9X8=72  9X9=81  \n"
     ]
    }
   ],
   "source": []
  },
  {
   "cell_type": "code",
   "execution_count": null,
   "metadata": {},
   "outputs": [],
   "source": []
  }
 ],
 "metadata": {
  "kernelspec": {
   "display_name": "Python 3",
   "language": "python",
   "name": "python3"
  },
  "language_info": {
   "codemirror_mode": {
    "name": "ipython",
    "version": 3
   },
   "file_extension": ".py",
   "mimetype": "text/x-python",
   "name": "python",
   "nbconvert_exporter": "python",
   "pygments_lexer": "ipython3",
   "version": "3.6.1"
  }
 },
 "nbformat": 4,
 "nbformat_minor": 2
}
