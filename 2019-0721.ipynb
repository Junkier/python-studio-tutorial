{
 "cells": [
  {
   "cell_type": "code",
   "execution_count": null,
   "metadata": {},
   "outputs": [],
   "source": [
    "# V 1. 9X9 \n",
    "# V 2. Febonacci \n",
    "# 3. IT basic info #1 \n",
    "# 4. git tutorial ? \n",
    "# V 5. last week review"
   ]
  },
  {
   "cell_type": "code",
   "execution_count": 32,
   "metadata": {},
   "outputs": [
    {
     "name": "stdout",
     "output_type": "stream",
     "text": [
      "ABC DEF 234567\n"
     ]
    }
   ],
   "source": [
    "test = \"\"\n",
    "\n",
    "a = 234 \n",
    "b = 567\n",
    "\n",
    "test += \"ABC\"\n",
    "test += \" \"\n",
    "test += \"DEF \"\n",
    "test += ( str(a) + str(b) )\n",
    "\n",
    "print(test)"
   ]
  },
  {
   "cell_type": "code",
   "execution_count": 36,
   "metadata": {
    "scrolled": true
   },
   "outputs": [
    {
     "name": "stdout",
     "output_type": "stream",
     "text": [
      "1X1=1 1X2=2 1X3=3 1X4=4 1X5=5 1X6=6 1X7=7 1X8=8 1X9=9 \n",
      "2X1=2 2X2=4 2X3=6 2X4=8 2X5=10 2X6=12 2X7=14 2X8=16 2X9=18 \n",
      "3X1=3 3X2=6 3X3=9 3X4=12 3X5=15 3X6=18 3X7=21 3X8=24 3X9=27 \n",
      "4X1=4 4X2=8 4X3=12 4X4=16 4X5=20 4X6=24 4X7=28 4X8=32 4X9=36 \n",
      "5X1=5 5X2=10 5X3=15 5X4=20 5X5=25 5X6=30 5X7=35 5X8=40 5X9=45 \n",
      "6X1=6 6X2=12 6X3=18 6X4=24 6X5=30 6X6=36 6X7=42 6X8=48 6X9=54 \n",
      "7X1=7 7X2=14 7X3=21 7X4=28 7X5=35 7X6=42 7X7=49 7X8=56 7X9=63 \n",
      "8X1=8 8X2=16 8X3=24 8X4=32 8X5=40 8X6=48 8X7=56 8X8=64 8X9=72 \n",
      "9X1=9 9X2=18 9X3=27 9X4=36 9X5=45 9X6=54 9X7=63 9X8=72 9X9=81 \n"
     ]
    }
   ],
   "source": [
    "for i in range(1,10):\n",
    "    msg = \"\"\n",
    "    \n",
    "    for j in range(1,10):\n",
    "#         print(i,\"X\",j,\"=\",i*j)\n",
    "        msg += str(i)\n",
    "        msg += \"X\"\n",
    "        msg += str(j)\n",
    "        msg += \"=\"\n",
    "        msg += str(i*j)\n",
    "        msg += \" \"\n",
    "        \n",
    "    print(msg)\n",
    "#     print()"
   ]
  },
  {
   "cell_type": "code",
   "execution_count": 21,
   "metadata": {},
   "outputs": [
    {
     "name": "stdout",
     "output_type": "stream",
     "text": [
      "123\n",
      "<class 'str'>\n",
      "str(a)\n"
     ]
    }
   ],
   "source": [
    "a = 123\n",
    "print( str(a) )\n",
    "print( type( str(a) ) )\n",
    "print( \"str(a)\" )"
   ]
  },
  {
   "cell_type": "code",
   "execution_count": 59,
   "metadata": {},
   "outputs": [
    {
     "name": "stdout",
     "output_type": "stream",
     "text": [
      "1X1=1  1X2=2  1X3=3  1X4=4  1X5=5  1X6=6  1X7=7  1X8=8  1X9=9  \n",
      "2X1=2  2X2=4  2X3=6  2X4=8  2X5=10 2X6=12 2X7=14 2X8=16 2X9=18 \n",
      "3X1=3  3X2=6  3X3=9  3X4=12 3X5=15 3X6=18 3X7=21 3X8=24 3X9=27 \n",
      "4X1=4  4X2=8  4X3=12 4X4=16 4X5=20 4X6=24 4X7=28 4X8=32 4X9=36 \n",
      "5X1=5  5X2=10 5X3=15 5X4=20 5X5=25 5X6=30 5X7=35 5X8=40 5X9=45 \n",
      "6X1=6  6X2=12 6X3=18 6X4=24 6X5=30 6X6=36 6X7=42 6X8=48 6X9=54 \n",
      "7X1=7  7X2=14 7X3=21 7X4=28 7X5=35 7X6=42 7X7=49 7X8=56 7X9=63 \n",
      "8X1=8  8X2=16 8X3=24 8X4=32 8X5=40 8X6=48 8X7=56 8X8=64 8X9=72 \n",
      "9X1=9  9X2=18 9X3=27 9X4=36 9X5=45 9X6=54 9X7=63 9X8=72 9X9=81 \n"
     ]
    }
   ],
   "source": [
    "for i in range(1,10):\n",
    "    msg = \"\"\n",
    "    for j in range(1,10):\n",
    "        k = i*j\n",
    "        msg += (str(i) + \"X\" + str(j) + \"=\" + str(k))\n",
    "        \n",
    "        msg += \"  \" if k < 10 else \" \"\n",
    "        \n",
    "#         if k < 10 :\n",
    "#             msg += \"  \"\n",
    "#         else :\n",
    "#             msg += \" \"\n",
    "            \n",
    "#         msg += str(i)\n",
    "#         msg += \"X\"\n",
    "#         msg += str(j)\n",
    "#         msg += \"=\"\n",
    "#         msg += str(i*j)\n",
    "#         msg += \" \"\n",
    "        \n",
    "    print(msg)\n",
    "#     print()"
   ]
  },
  {
   "cell_type": "code",
   "execution_count": null,
   "metadata": {},
   "outputs": [],
   "source": [
    "a = -100\n",
    "b = \"test\" if a>0 else \"Jack\"\n",
    "# 三元運算子\n",
    "\n",
    "# if a > 0:\n",
    "#     b = \"test\"\n",
    "# else:\n",
    "#     b = \"Jack\"\n",
    "    \n",
    "print(b)"
   ]
  },
  {
   "cell_type": "code",
   "execution_count": 73,
   "metadata": {},
   "outputs": [
    {
     "name": "stdout",
     "output_type": "stream",
     "text": [
      "34\n"
     ]
    }
   ],
   "source": [
    "a = 0\n",
    "b = 1\n",
    "n = 9\n",
    "result = 0\n",
    "# for i in range(1,n+1):\n",
    "for i in range(1,n+1):\n",
    "    result = a+b\n",
    "    b = a\n",
    "    a = result \n",
    "print(result)"
   ]
  },
  {
   "cell_type": "code",
   "execution_count": 82,
   "metadata": {},
   "outputs": [
    {
     "name": "stdout",
     "output_type": "stream",
     "text": [
      "233\n"
     ]
    }
   ],
   "source": [
    "# 1,1,2,3,5,8,13,21,34,55,89,...\n",
    "\n",
    "def getValue(n):\n",
    "    if n == 1 or n == 2 :\n",
    "        return 1\n",
    "    \n",
    "    a = 1\n",
    "    b = 1\n",
    "    \n",
    "    for i in range(n-2):\n",
    "        c = a+b\n",
    "        b = a\n",
    "        a = c\n",
    "        \n",
    "    return c\n",
    "print(getValue(13))"
   ]
  },
  {
   "cell_type": "code",
   "execution_count": null,
   "metadata": {},
   "outputs": [],
   "source": [
    "def reverseString1(word):\n",
    "    # this is a book  -- >  koob a si siht \n",
    "    # testqq -> qqtset \n",
    "\n",
    "# Q1\n",
    "word = \"this is a book\" # -- >  koob a si siht \n",
    "print(reverseString(word))\n",
    "\n",
    "# Q2\n",
    "def reverseString2(word):\n",
    "    # this is a book  -- >  book a is this\n",
    "    # testqq -->  testqq\n"
   ]
  },
  {
   "cell_type": "code",
   "execution_count": null,
   "metadata": {},
   "outputs": [],
   "source": []
  },
  {
   "cell_type": "code",
   "execution_count": null,
   "metadata": {},
   "outputs": [],
   "source": [
    "FF\n",
    "interface"
   ]
  },
  {
   "cell_type": "code",
   "execution_count": null,
   "metadata": {},
   "outputs": [],
   "source": [
    "(|A> , |A>)\n",
    "<A|Q|B> = (|A> , Q|B>) = (Q+|A>,|B>)\n",
    "\n",
    "|A><A|"
   ]
  }
 ],
 "metadata": {
  "kernelspec": {
   "display_name": "Python 3",
   "language": "python",
   "name": "python3"
  },
  "language_info": {
   "codemirror_mode": {
    "name": "ipython",
    "version": 3
   },
   "file_extension": ".py",
   "mimetype": "text/x-python",
   "name": "python",
   "nbconvert_exporter": "python",
   "pygments_lexer": "ipython3",
   "version": "3.6.1"
  }
 },
 "nbformat": 4,
 "nbformat_minor": 2
}
