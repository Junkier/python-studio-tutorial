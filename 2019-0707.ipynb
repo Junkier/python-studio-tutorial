{
 "cells": [
  {
   "cell_type": "code",
   "execution_count": null,
   "metadata": {},
   "outputs": [],
   "source": [
    "# 1. 9X9 乘法表 \n",
    "# 2. list & dict 資料結構\n",
    "# 3. def 設計"
   ]
  },
  {
   "cell_type": "code",
   "execution_count": 3,
   "metadata": {},
   "outputs": [
    {
     "name": "stdout",
     "output_type": "stream",
     "text": [
      "1*1=1  1*2=2  1*3=3  1*4=4  1*5=5  1*6=6  1*7=7  1*8=8  1*9=9  \n",
      "2*1=2  2*2=4  2*3=6  2*4=8  2*5=10 2*6=12 2*7=14 2*8=16 2*9=18 \n",
      "3*1=3  3*2=6  3*3=9  3*4=12 3*5=15 3*6=18 3*7=21 3*8=24 3*9=27 \n",
      "4*1=4  4*2=8  4*3=12 4*4=16 4*5=20 4*6=24 4*7=28 4*8=32 4*9=36 \n",
      "5*1=5  5*2=10 5*3=15 5*4=20 5*5=25 5*6=30 5*7=35 5*8=40 5*9=45 \n",
      "6*1=6  6*2=12 6*3=18 6*4=24 6*5=30 6*6=36 6*7=42 6*8=48 6*9=54 \n",
      "7*1=7  7*2=14 7*3=21 7*4=28 7*5=35 7*6=42 7*7=49 7*8=56 7*9=63 \n",
      "8*1=8  8*2=16 8*3=24 8*4=32 8*5=40 8*6=48 8*7=56 8*8=64 8*9=72 \n",
      "9*1=9  9*2=18 9*3=27 9*4=36 9*5=45 9*6=54 9*7=63 9*8=72 9*9=81 \n"
     ]
    }
   ],
   "source": []
  },
  {
   "cell_type": "code",
   "execution_count": null,
   "metadata": {},
   "outputs": [],
   "source": [
    "scores = [\n",
    "    { \"name\" : \"Jeff\"  , \"math\" : 90 ,  \"english\" :94 , \"science\": 82 },\n",
    "    { \"name\" : \"Leo\"   , \"math\" : 100 , \"english\" :62 , \"science\": 88 },\n",
    "    { \"name\" : \"Keven\" , \"math\" : 77 ,  \"english\" :70 , \"science\": 81 },\n",
    "    { \"name\" : \"Jack\"  , \"math\" : 47 ,  \"english\" :77 , \"science\": 73 },\n",
    "]\n",
    "\n",
    "\n",
    "# 1. 取得 math 總和\n",
    "\n",
    "# 2. 取得 english 平均\n",
    "\n",
    "# 3. 取得 science 總和&平均\n",
    "\n"
   ]
  },
  {
   "cell_type": "code",
   "execution_count": null,
   "metadata": {},
   "outputs": [],
   "source": [
    "# Q1. 丟入半徑 , 求圓面積 , ex: getCircleArea(3) --> 28.26\n",
    "# Q2. 丟 n 值 進去 , 求 1^2 + 2^2 + 3^2 + ... + n^2  "
   ]
  },
  {
   "cell_type": "code",
   "execution_count": 8,
   "metadata": {},
   "outputs": [
    {
     "data": {
      "text/plain": [
       "[0, 1, 2, 3, 4, 5, 6, 7, 8, 9]"
      ]
     },
     "execution_count": 8,
     "metadata": {},
     "output_type": "execute_result"
    }
   ],
   "source": [
    "list(range(10))"
   ]
  },
  {
   "cell_type": "code",
   "execution_count": 10,
   "metadata": {},
   "outputs": [
    {
     "name": "stdout",
     "output_type": "stream",
     "text": [
      "test is ooo\n"
     ]
    }
   ],
   "source": [
    "a= \"test \" \n",
    "b= \"is \"\n",
    "c= \"ooo\"\n",
    "\n",
    "print(a+b+c)"
   ]
  },
  {
   "cell_type": "code",
   "execution_count": 16,
   "metadata": {},
   "outputs": [
    {
     "name": "stdout",
     "output_type": "stream",
     "text": [
      "Math sum :  359\n",
      "Math avg :  89.75\n",
      "--------------------------------------------------------------------------------\n",
      "English sum :  337\n",
      "English avg :  84.25\n"
     ]
    }
   ],
   "source": [
    "# 駝峰式命名\n",
    "mathScores = [80,100,79,100]\n",
    "print(\"Math sum : \",sum(mathScores))\n",
    "print(\"Math avg : \",sum(mathScores) / len(mathScores))\n",
    "\n",
    "print(\"-\"*80)\n",
    "#### \n",
    "engScores = [95,77,100,65]\n",
    "print(\"English sum : \",sum(engScores))\n",
    "print(\"English avg : \",sum(engScores) / len(engScores))\n"
   ]
  },
  {
   "cell_type": "code",
   "execution_count": 26,
   "metadata": {},
   "outputs": [
    {
     "name": "stdout",
     "output_type": "stream",
     "text": [
      "[12, 5, 68]\n",
      "['test', 'Jack', 'Jeff']\n",
      "[True, False, True]\n",
      "[{'name': 'Jeff', 'age': 18}, {'name': 'Leo'}]\n",
      "[[1, 2, 3, 4], ['a', 'b', 'c'], [9, 123, -8, 77]]\n"
     ]
    }
   ],
   "source": [
    "a = [12,5,68]\n",
    "b = [\"test\",\"Jack\",\"Jeff\"]\n",
    "c = [True , False , 12>7 ]\n",
    "d = [ \n",
    "    {\"name\":\"Jeff\",\"age\":18} , \n",
    "    {\"name\":\"Leo\"} \n",
    "]\n",
    "\n",
    "dd = [\n",
    "    [\"Jeff\",18,123,75,33],\n",
    "    [\"Leo\",22,170,80,52]\n",
    "]\n",
    "\n",
    "e = [\n",
    "    [1,2,3,4],\n",
    "    [\"a\",\"b\",\"c\"],\n",
    "    [9,123,-8,77]\n",
    "]\n",
    "print(a)\n",
    "print(b)\n",
    "print(c)\n",
    "print(d)\n",
    "print(e)"
   ]
  },
  {
   "cell_type": "code",
   "execution_count": 38,
   "metadata": {},
   "outputs": [
    {
     "name": "stdout",
     "output_type": "stream",
     "text": [
      "Math Sum : 359\n",
      "Math Avg : 89.75\n",
      "Eng Sum  : 337\n",
      "Eng Avg  : 84.25\n",
      "Science Sum  : 296\n",
      "Science Avg  : 74.0\n"
     ]
    }
   ],
   "source": [
    "scores = [\n",
    "    { \"name\" : \"Jeff\"   , \"math\" : 80  , \"english\" : 95 , \"science\" : 96} , \n",
    "    { \"name\" : \"Jack\"   , \"math\" : 100 , \"english\" : 77 , \"science\" : 100} , \n",
    "    { \"name\" : \"Keven\"  , \"math\" : 79  , \"english\" : 100 , \"science\" : 43} , \n",
    "    { \"name\" : \"Leo\"    , \"math\" : 100 , \"english\" : 65  , \"science\" : 57} , \n",
    "]\n",
    "\n",
    "mathSum = 0\n",
    "\n",
    "for ele in scores:\n",
    "#     print(ele) \n",
    "    # ele -> { \"name\" : \"Jeff\"   , \"math\" : 80  , \"english\" : 95 }\n",
    "#     print(\"My name is {}\".format(ele[\"name\"]))\n",
    "#     print(ele[\"math\"])\n",
    "#     print(ele[\"english\"])\n",
    "#     print(\"-\"*80)\n",
    "\n",
    "    mathSum += ele[\"math\"]\n",
    "    \n",
    "    \n",
    "engSum = 0\n",
    "for ele in scores:\n",
    "    engSum  += ele[\"english\"]\n",
    "\n",
    "    \n",
    "scienceSum = 0\n",
    "for ele in scores:\n",
    "    scienceSum += ele[\"science\"]\n",
    "\n",
    "print(\"Math Sum :\", mathSum)\n",
    "print(\"Math Avg :\", mathSum / len(scores))\n",
    "\n",
    "print(\"Eng Sum  :\", engSum)\n",
    "print(\"Eng Avg  :\", engSum / len(scores))\n",
    "\n",
    "print(\"Science Sum  :\", scienceSum)\n",
    "print(\"Science Avg  :\", scienceSum / len(scores))"
   ]
  },
  {
   "cell_type": "code",
   "execution_count": 40,
   "metadata": {},
   "outputs": [
    {
     "name": "stdout",
     "output_type": "stream",
     "text": [
      "Total : 271\n",
      "Total : 277\n",
      "Total : 222\n",
      "Total : 210\n"
     ]
    }
   ],
   "source": [
    "scores = [\n",
    "    { \"name\" : \"Jeff\"   , \"math\" : 80  , \"english\" : 95 , \"science\" : 96} , \n",
    "    { \"name\" : \"Jack\"   , \"math\" : 100 , \"english\" : 77 , \"science\" : 100} , \n",
    "    { \"name\" : \"Keven\"  , \"math\" : 79  , \"english\" : 100 , \"science\" : 43} , \n",
    "    { \"name\" : \"Leo\"    , \"math\" : 88 , \"english\" : 65  , \"science\" : 57} , \n",
    "]\n",
    "\n",
    "for ele in scores:\n",
    "    print(\"Total :\", (ele[\"math\"] + ele[\"english\"] + ele[\"science\"]))"
   ]
  },
  {
   "cell_type": "code",
   "execution_count": null,
   "metadata": {},
   "outputs": [],
   "source": []
  },
  {
   "cell_type": "code",
   "execution_count": 43,
   "metadata": {},
   "outputs": [
    {
     "data": {
      "text/plain": [
       "['a', 'b', 'c']"
      ]
     },
     "execution_count": 43,
     "metadata": {},
     "output_type": "execute_result"
    }
   ],
   "source": [
    "\"a,b,c\".split(\",\")"
   ]
  },
  {
   "cell_type": "code",
   "execution_count": 83,
   "metadata": {
    "scrolled": false
   },
   "outputs": [
    {
     "name": "stdout",
     "output_type": "stream",
     "text": [
      "\n",
      "〔記者魏瑾筠／桃園報導〕長榮空服員'罷工'昨天在勞資雙方簽下團體協約後落幕\n",
      "'罷工'空服員可攜帶會員證、三寶保管申請書及個人證明文件\n",
      "至南崁'罷工'棚領取「三寶」（員工證、台胞證及護照）\n",
      "中午12點至晚上10點在'罷工'棚發放\n",
      "直到有時間的時候回來領取。\n",
      "\n",
      "針對'罷工'落幕後\n",
      "長榮呼籲政府要把航空業'罷工'預告期法制化\n",
      "日本、加拿大、法國、美國等國都有'罷工'預告期的限制\n",
      "主要原因是因為它們在'罷工'前的門檻並沒有那麼高\n",
      "台灣的法規在對於提起'罷工'前的門檻\n",
      "如果政府覺得'罷工'預告期需要透過修法去更改\n",
      "但還是呼籲政府要正視到勞工最後一道防線就是'罷工'\n",
      "若是要有'罷工'預告期的修法\n",
      "'罷工'前的門檻也應該考慮是否降低。\n",
      "\n",
      "然而\n",
      "有人試算'罷工'後\n",
      "往更好的方向前進。\n",
      "\n",
      "昨天宣布'罷工'落幕\n",
      "長達17天的'罷工'\n",
      "都會希望這場'罷工'行動趕快結束\n",
      "因為工會宣佈'罷工'行動的結束是在7月9日的晚上12點\n",
      "'罷工'長達17天\n",
      "所以這場'罷工'\n"
     ]
    }
   ],
   "source": [
    "# \"this-is-a-book\".split()\n",
    "# \"this is a book\".split(\"s\")\n",
    "result = \"\"\"\n",
    "〔記者魏瑾筠／桃園報導〕長榮空服員罷工昨天在勞資雙方簽下團體協約後落幕，桃園市空服員職業工會會員代表丁紹明表示，今天起一連3天，中午12點至晚上10點，罷工空服員可攜帶會員證、三寶保管申請書及個人證明文件，至南崁罷工棚領取「三寶」（員工證、台胞證及護照），現場申請即可領回，最快10日就可以開始服勤。\n",
    "\n",
    "工會目前仍有2060份三寶，丁紹明表示，領三寶程序是7月7日至7月9日共3天，中午12點至晚上10點在罷工棚發放，整個10小時的程序就是專門、專心的歸還三寶，所有會員必須本人親自領取，因為這是屬於個人重要的證件，如果有人是在外地無法來領取，工會會替她保管，直到有時間的時候回來領取。\n",
    "\n",
    "針對罷工落幕後，長榮呼籲政府要把航空業罷工預告期法制化，減少對旅客衝擊，丁紹明表示，日本、加拿大、法國、美國等國都有罷工預告期的限制，主要原因是因為它們在罷工前的門檻並沒有那麼高，台灣的法規在對於提起罷工前的門檻，要求非常高的，如果政府覺得罷工預告期需要透過修法去更改，工會也會照著法規走，但還是呼籲政府要正視到勞工最後一道防線就是罷工，若是要有罷工預告期的修法，罷工前的門檻也應該考慮是否降低。\n",
    "\n",
    "然而，有人試算罷工後，空服員爭取到獎金3萬多元，但可能4個月的年終沒了，工會如何看待？丁紹明說，年終跟調薪依照法規，如果集團有盈餘就必須發放，不會揣測今年集團的盈餘狀況，至於獎金的調整是長期，而且是全體員工享有的，也呼籲長榮集團針對今年盈餘的部分，不要對外宣稱是工會影響、工會造成的，也希望公司能夠越來越好，往更好的方向前進。\n",
    "\n",
    "昨天宣布罷工落幕，會員和幹部的心情如何？丁紹明說，長達17天的罷工，其實所有的人都非常疲憊，相信不管是會員、資方、旅客，都會希望這場罷工行動趕快結束，也很高興公司最後有正面且善意的回覆，然後完成這場團體協約，接下來會盡力歸還三寶讓所有會員都能回到線上飛行，因為工會宣佈罷工行動的結束是在7月9日的晚上12點，所以正式恢復執勤的時間，將會從7月10日開始，詳細排班的方式，會由公司方去訂定。\n",
    "\n",
    "針對媒體詢問，罷工長達17天，總統蔡英文及交通部長林佳龍都有出面喊話，是否覺得是公司受到壓力？丁紹明則說，官方政府願意就這次狀況呼籲或喊話，工會是非常高興，但也相信長榮資方是一直有善意想要解決的，所以這場罷工，才能在第三次協商後盡快落幕。\n",
    "\"\"\".split(\"，\")\n",
    "\n",
    "# print(result)\n",
    "for ele in result:\n",
    "    if \"罷工\" in ele:\n",
    "#         print(ele)\n",
    "        print(ele.replace(\"罷工\",\"'罷工'\"))\n",
    "        \n",
    "#     print(ele + \"_testQQ\")\n"
   ]
  },
  {
   "cell_type": "code",
   "execution_count": 77,
   "metadata": {},
   "outputs": [
    {
     "data": {
      "text/plain": [
       "['\\n\\n對罷工落幕後',\n",
       " '長榮呼籲政府要把航空業罷工預告期法制化',\n",
       " '減少對旅客衝擊',\n",
       " '丁紹明表示',\n",
       " '日本、加拿大、法國、美國等國都有罷工預告期的限制',\n",
       " '主要原因是因為它們在罷工前的門檻並沒有那麼高',\n",
       " '台灣的法規在對於提起罷工前的門檻',\n",
       " '要求非常高的',\n",
       " '如果政府覺得罷工預告期需要透過修法去更改',\n",
       " '工會也會照著法規走',\n",
       " '但還是呼籲政府要正視到勞工最後一道防線就是罷工',\n",
       " '若是要有罷工預告期的修法',\n",
       " '罷工前的門檻也應該考慮是否降低。\\n\\n然而',\n",
       " '有人試算罷工後',\n",
       " '空服員爭取到獎金3萬多元',\n",
       " '但可能4個月的年終沒了',\n",
       " '工會如何看待？丁紹明說',\n",
       " '年終跟調薪依照法規',\n",
       " '如果集團有盈餘就必須發放',\n",
       " '不會揣測今年集團的盈餘狀況',\n",
       " '至於獎金的調整是長期',\n",
       " '而且是全體員工享有的',\n",
       " '也呼籲長榮集團針對今年盈餘的部分',\n",
       " '不要對外宣稱是工會影響、工會造成的',\n",
       " '也希望公司能夠越來越好',\n",
       " '往更好的方向前進。\\n\\n']"
      ]
     },
     "execution_count": 77,
     "metadata": {},
     "output_type": "execute_result"
    }
   ],
   "source": [
    "qq = \"\"\"\n",
    "\n",
    "對罷工落幕後，長榮呼籲政府要把航空業罷工預告期法制化，減少對旅客衝擊，丁紹明表示，日本、加拿大、法國、美國等國都有罷工預告期的限制，主要原因是因為它們在罷工前的門檻並沒有那麼高，台灣的法規在對於提起罷工前的門檻，要求非常高的，如果政府覺得罷工預告期需要透過修法去更改，工會也會照著法規走，但還是呼籲政府要正視到勞工最後一道防線就是罷工，若是要有罷工預告期的修法，罷工前的門檻也應該考慮是否降低。\n",
    "\n",
    "然而，有人試算罷工後，空服員爭取到獎金3萬多元，但可能4個月的年終沒了，工會如何看待？丁紹明說，年終跟調薪依照法規，如果集團有盈餘就必須發放，不會揣測今年集團的盈餘狀況，至於獎金的調整是長期，而且是全體員工享有的，也呼籲長榮集團針對今年盈餘的部分，不要對外宣稱是工會影響、工會造成的，也希望公司能夠越來越好，往更好的方向前進。\n",
    "\n",
    "\"\"\".split(\"，\")\n",
    "qq"
   ]
  },
  {
   "cell_type": "code",
   "execution_count": 74,
   "metadata": {},
   "outputs": [
    {
     "data": {
      "text/plain": [
       "'罷工長達17天，總統ＯＯＯ及交通部長ＯＯＯ都有亂講話'"
      ]
     },
     "execution_count": 74,
     "metadata": {},
     "output_type": "execute_result"
    }
   ],
   "source": [
    "\"罷工長達17天，總統蔡英文及交通部長林佳龍都有出面喊話\"\\\n",
    "    .replace(\"蔡英文\",\"ＯＯＯ\")\\\n",
    "    .replace(\"林佳龍\",\"ＯＯＯ\")\\\n",
    "    .replace(\"出面喊話\",\"亂講話\")\n",
    "\n",
    "\n",
    "# \"罷工長達17天，總統蔡英文及交通部長林佳龍都有出面喊話\".replace(\"林佳龍\",\" 啊哈哈哈 \")"
   ]
  },
  {
   "cell_type": "code",
   "execution_count": 78,
   "metadata": {},
   "outputs": [
    {
     "data": {
      "text/plain": [
       "'罷工長達17天，總統「蔡英文」及交通部長林佳龍都有出面喊話'"
      ]
     },
     "execution_count": 78,
     "metadata": {},
     "output_type": "execute_result"
    }
   ],
   "source": [
    "\"罷工長達17天，總統蔡英文及交通部長林佳龍都有出面喊話\".replace(\"蔡英文\",\"「蔡英文」\")"
   ]
  },
  {
   "cell_type": "code",
   "execution_count": 93,
   "metadata": {},
   "outputs": [
    {
     "name": "stdout",
     "output_type": "stream",
     "text": [
      "['罷工長達17天', '總統蔡英文', '交通部長林佳龍', '都有出面', '喊話']\n",
      "罷工長達17天，總統「蔡英文」及交通部長林佳龍都有出面喊話\n",
      "罷工長達17天---總統蔡英文---交通部長林佳龍---都有出面---喊話\n",
      "a~~~~~~~b~~~~~~~c~~~~~~~d~~~~~~~e\n"
     ]
    }
   ],
   "source": [
    "# split \n",
    "print(\"罷工長達17天，總統蔡英文，交通部長林佳龍，都有出面，喊話\".split(\"，\"))\n",
    "\n",
    "# replace \n",
    "print(\"罷工長達17天，總統蔡英文及交通部長林佳龍都有出面喊話\".replace(\"蔡英文\",\"「蔡英文」\"))\n",
    "\n",
    "# join\n",
    "print( \"---\".join(['罷工長達17天', '總統蔡英文', '交通部長林佳龍', '都有出面', '喊話']))\n",
    "data = [\"a\",\"b\",\"c\",\"d\",\"e\"]\n",
    "# --> \"a__b__c__d__e\"\n",
    "print( \"~~~~~~~\".join(data) )"
   ]
  },
  {
   "cell_type": "code",
   "execution_count": 99,
   "metadata": {},
   "outputs": [
    {
     "name": "stdout",
     "output_type": "stream",
     "text": [
      "Math Sum : 347\n",
      "English Sum : 337\n",
      "Science Sum : 296\n",
      "Math Avg : 86.75\n",
      "English Avg : 84.25\n"
     ]
    }
   ],
   "source": [
    "## 設計 function , 函式 / 函數\n",
    "# definition\n",
    "def getScoreSum(data,key):\n",
    "    result = 0\n",
    "    \n",
    "    for ele in data:\n",
    "        result += ele[key] \n",
    "        \n",
    "#     print(\"ABC\")\n",
    "#     a = 123\n",
    "#     print(a)\n",
    "#     print(result)\n",
    "        \n",
    "    return result \n",
    "    \n",
    "\n",
    "def getScoreAvg(data,key):\n",
    "    return getScoreSum(data,key) / len(data)\n",
    "    \n",
    "\n",
    "scores = [\n",
    "    { \"name\" : \"Jeff\"   , \"math\" : 80  , \"english\" : 95 , \"science\" : 96} , \n",
    "    { \"name\" : \"Jack\"   , \"math\" : 100 , \"english\" : 77 , \"science\" : 100} , \n",
    "    { \"name\" : \"Keven\"  , \"math\" : 79  , \"english\" : 100 , \"science\" : 43} , \n",
    "    { \"name\" : \"Leo\"    , \"math\" : 88  , \"english\" : 65  , \"science\" : 57} , \n",
    "]\n",
    "\n",
    "## Output = func( Input )\n",
    "mathSum = getScoreSum(scores,\"math\")  \n",
    "englishSum = getScoreSum(scores,\"english\")\n",
    "scienceSum = getScoreSum(scores,\"science\")\n",
    "\n",
    "\n",
    "mathAvg = getScoreAvg(scores,\"math\")\n",
    "englishAvg = getScoreAvg(scores,\"english\")\n",
    "\n",
    "\n",
    "print(\"Math Sum :\",mathSum)\n",
    "print(\"English Sum :\",englishSum)\n",
    "print(\"Science Sum :\",scienceSum)\n",
    "\n",
    "print(\"Math Avg :\",mathAvg)\n",
    "print(\"English Avg :\",englishAvg)\n"
   ]
  },
  {
   "cell_type": "code",
   "execution_count": null,
   "metadata": {},
   "outputs": [],
   "source": [
    "# mathSum = 0\n",
    "# for ele in scores:\n",
    "#     mathSum += ele[\"math\"]\n",
    "    \n",
    "# engSum = 0\n",
    "# for ele in scores:\n",
    "#     engSum  += ele[\"english\"]\n",
    "    \n",
    "# scienceSum = 0\n",
    "# for ele in scores:\n",
    "#     scienceSum += ele[\"science\"]\n",
    "\n",
    "    \n",
    "# print(\"Math Sum :\", mathSum)\n",
    "# print(\"Math Avg :\", mathSum / len(scores))\n",
    "\n",
    "# print(\"Eng Sum  :\", engSum)\n",
    "# print(\"Eng Avg  :\", engSum / len(scores))\n",
    "\n",
    "# print(\"Science Sum  :\", scienceSum)\n",
    "# print(\"Science Avg  :\", scienceSum / len(scores))"
   ]
  },
  {
   "cell_type": "code",
   "execution_count": null,
   "metadata": {},
   "outputs": [],
   "source": [
    "# Q1. 丟入半徑 , 求圓面積 , ex: getCircleArea(3) --> 28.26\n",
    "# Q2. 丟 n 值 進去 , 求 1^2 + 2^2 + 3^2 + ... + n^2  \n",
    "\n",
    "\n",
    "def getCircleArea(r):\n",
    "    \n",
    "    return ????\n",
    "\n",
    "\n",
    "def getSum(n):\n",
    "    \n",
    "    return ????"
   ]
  }
 ],
 "metadata": {
  "kernelspec": {
   "display_name": "Python 3",
   "language": "python",
   "name": "python3"
  },
  "language_info": {
   "codemirror_mode": {
    "name": "ipython",
    "version": 3
   },
   "file_extension": ".py",
   "mimetype": "text/x-python",
   "name": "python",
   "nbconvert_exporter": "python",
   "pygments_lexer": "ipython3",
   "version": "3.6.1"
  }
 },
 "nbformat": 4,
 "nbformat_minor": 2
}
